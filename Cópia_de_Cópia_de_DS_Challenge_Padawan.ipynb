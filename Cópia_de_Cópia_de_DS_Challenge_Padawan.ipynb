{
  "nbformat": 4,
  "nbformat_minor": 0,
  "metadata": {
    "kernelspec": {
      "display_name": "Python 3",
      "language": "python",
      "name": "python3"
    },
    "language_info": {
      "codemirror_mode": {
        "name": "ipython",
        "version": 3
      },
      "file_extension": ".py",
      "mimetype": "text/x-python",
      "name": "python",
      "nbconvert_exporter": "python",
      "pygments_lexer": "ipython3",
      "version": "3.7.6"
    },
    "colab": {
      "name": "Cópia de Cópia de DS_Challenge_Padawan.ipynb",
      "provenance": [],
      "collapsed_sections": []
    }
  },
  "cells": [
    {
      "cell_type": "markdown",
      "metadata": {
        "id": "S65oCKeSUIUK"
      },
      "source": [
        "# Desafio de Ciência de Dados - Padawan\r\n",
        "\r\n",
        "Bem vindo! O objetivo do desafio é medir a sua aptidão para problemas envolvendo processamento de dados e extração de informações. O desafio consiste em carregar um conjunto de dados no formato csv, seja de forma manual ou utilizando bibliotecas de processamento de dados, tratar o conjunto de dados e apresentar as respostas para as perguntas abaixo.\r\n",
        "\r\n",
        "Ao final, deverão ser entregues: i) o arquivo do notebook com o seu desenvolvimento; ii) um arquivo csv com os dados solicitados.\r\n",
        "\r\n",
        "Boa sorte!"
      ]
    },
    {
      "cell_type": "markdown",
      "metadata": {
        "id": "UWCPcbFbVdqA"
      },
      "source": [
        "# Material auxiliar para o desenvolvimento do desafio\r\n",
        "\r\n",
        "- Pandas: https://pandas.pydata.org/docs/\r\n",
        "- Numpy: https://numpy.org/doc/stable/"
      ]
    },
    {
      "cell_type": "markdown",
      "metadata": {
        "id": "DV0WSR0dUIUP"
      },
      "source": [
        "# 1) Carregue os dados do arquivo *challenge_dataset.csv* para o ambiente Jupyter\n",
        "### Os dados contém três colunas, referêntes ao deslocamento de veículos: a primeira apresenta a distância em metros, a segunda o tempo para vencer essa distância em segundos e a terceira a incidência de chuva, onde 1 = chuva; 0 = tempo aberto."
      ]
    },
    {
      "cell_type": "code",
      "metadata": {
        "id": "TOqvHeQrrmMI"
      },
      "source": [
        "import pandas as pd\r\n",
        "\r\n",
        "df = pd.read_csv()\r\n"
      ],
      "execution_count": null,
      "outputs": []
    },
    {
      "cell_type": "markdown",
      "metadata": {
        "id": "rCHx3KOEUIUQ"
      },
      "source": [
        "# 2) Qual é o tamanho do conjunto de dados? (número de linhas e colunas do dataset)"
      ]
    },
    {
      "cell_type": "code",
      "metadata": {
        "id": "URkt5l3hrmx2"
      },
      "source": [
        ""
      ],
      "execution_count": null,
      "outputs": []
    },
    {
      "cell_type": "markdown",
      "metadata": {
        "id": "0eyuQA8bUIUS"
      },
      "source": [
        "# 3) Algumas observações contém inconsistências (ex: ausência de valores, valores nulos, tipos diferentes de dados) que podem gerar problemas em futuras manipulações. \r\n",
        "\r\n",
        "### Identifique os dados com problemas, corrija os tipos e elimine  os dados faltantes e inconsistentes com o domínio do problema."
      ]
    },
    {
      "cell_type": "code",
      "metadata": {
        "id": "F9HeXys5rnbH"
      },
      "source": [
        ""
      ],
      "execution_count": null,
      "outputs": []
    },
    {
      "cell_type": "markdown",
      "metadata": {
        "id": "hVxEni9FUIUS"
      },
      "source": [
        "# 4) Qual é o tamanho do conjunto de dados após eliminação das inconsistências?"
      ]
    },
    {
      "cell_type": "code",
      "metadata": {
        "id": "JoWAuGYXrn3v"
      },
      "source": [
        ""
      ],
      "execution_count": null,
      "outputs": []
    },
    {
      "cell_type": "markdown",
      "metadata": {
        "id": "pi3C-64XUIUT"
      },
      "source": [
        "# 5) Crie uma coluna adicional na sua base de dados que contenha a velocidade média (em unidade de m/s) para cada uma das entradas do banco de dados \n",
        "$ \\text{Velocidade (m/s)} = \\frac{\\text{Distância (m)}}{\\text{Tempo (s)}} $"
      ]
    },
    {
      "cell_type": "code",
      "metadata": {
        "id": "AxWnDaEYroSv"
      },
      "source": [
        ""
      ],
      "execution_count": null,
      "outputs": []
    },
    {
      "cell_type": "markdown",
      "metadata": {
        "id": "a7gZ6gy6UIUU"
      },
      "source": [
        "# 6) Quais são os valores mínimo e máximo para velocidade?"
      ]
    },
    {
      "cell_type": "code",
      "metadata": {
        "id": "wpQfk0zuroqN"
      },
      "source": [
        ""
      ],
      "execution_count": null,
      "outputs": []
    },
    {
      "cell_type": "markdown",
      "metadata": {
        "id": "WyLa506RUIUV"
      },
      "source": [
        "# 7) Qual a diferença entre a média das velocidades dos dias sem chuva e com chuva?"
      ]
    },
    {
      "cell_type": "code",
      "metadata": {
        "id": "xREHf_omro_1"
      },
      "source": [
        ""
      ],
      "execution_count": null,
      "outputs": []
    },
    {
      "cell_type": "markdown",
      "metadata": {
        "id": "39UdWDOnUIUV"
      },
      "source": [
        "# 8) Qual é o valor mais frequente (moda) dentre os dados de Distância?"
      ]
    },
    {
      "cell_type": "code",
      "metadata": {
        "id": "J4NUEByQrpYH"
      },
      "source": [
        ""
      ],
      "execution_count": null,
      "outputs": []
    },
    {
      "cell_type": "markdown",
      "metadata": {
        "id": "2D4qjuWBUIUV"
      },
      "source": [
        "# 9) Existem mais dias chuvosos (1) ou com tempo aberto (0) na amostra?"
      ]
    },
    {
      "cell_type": "code",
      "metadata": {
        "id": "7MCGc9l8rp2O"
      },
      "source": [
        ""
      ],
      "execution_count": null,
      "outputs": []
    },
    {
      "cell_type": "markdown",
      "metadata": {
        "id": "bQUCZtn6UIUW"
      },
      "source": [
        "# 10) Qual é a mediana para os valores de tempo?"
      ]
    },
    {
      "cell_type": "code",
      "metadata": {
        "id": "QAm1exeTrqU-"
      },
      "source": [
        ""
      ],
      "execution_count": null,
      "outputs": []
    },
    {
      "cell_type": "markdown",
      "metadata": {
        "id": "HJrLcY-JUIUW"
      },
      "source": [
        "# 11) Em um dia chuvoso, para distâncias maiores do que 30 metros, qual a menor velocidade desenvolvida?"
      ]
    },
    {
      "cell_type": "code",
      "metadata": {
        "id": "PnkeHWI3rqzt"
      },
      "source": [
        ""
      ],
      "execution_count": null,
      "outputs": []
    },
    {
      "cell_type": "markdown",
      "metadata": {
        "id": "MJFPYbgZUIUX"
      },
      "source": [
        "# 12) Você considera que existe correlação entre a condição climática (chuva ou tempo aberto) e a velocidade?"
      ]
    },
    {
      "cell_type": "code",
      "metadata": {
        "id": "baoJwMbqrrQ2"
      },
      "source": [
        ""
      ],
      "execution_count": null,
      "outputs": []
    },
    {
      "cell_type": "markdown",
      "metadata": {
        "id": "vbo4iit7UIUX"
      },
      "source": [
        "# 13) Sabendo que esses veículos trafegaram em uma rodovia cujo limite de velocidade é de 110 km/h, quais seriam multados por excesso de velocidade?"
      ]
    },
    {
      "cell_type": "code",
      "metadata": {
        "id": "ocsTgMEirrwf"
      },
      "source": [
        ""
      ],
      "execution_count": null,
      "outputs": []
    },
    {
      "cell_type": "markdown",
      "metadata": {
        "id": "hYozRWYFUIUX"
      },
      "source": [
        "# 14) Considere um modelo cujo equacionamento para se obter a velocidade é o seguinte: \n",
        "\n",
        "### velocidade(m/s) = 13,26 + 0,31 * Distancia(m) - 2,68 * Tempo(s) + 0,45 * Chuva\n",
        "    \n",
        "# Aplicando esse modelo aos dados e calculando o erro absoluto, quais são as cinco observações com os maiores erros absolutos?\n",
        "\n",
        "### erro absoluto = | valor estimado - valor real |"
      ]
    },
    {
      "cell_type": "code",
      "metadata": {
        "id": "hAdDrPg1rsMF"
      },
      "source": [
        ""
      ],
      "execution_count": null,
      "outputs": []
    },
    {
      "cell_type": "markdown",
      "metadata": {
        "id": "wisx2pVvUIUY"
      },
      "source": [
        "# 15) Exporte os dados trabalhados para um arquivo *csv* que contenha as seguintes colunas:\n",
        "### Distância(m) | Tempo(s) | Chuva | Velocidade(m/s) | Velocidade do modelo (m/s) | Erro Absoluto"
      ]
    },
    {
      "cell_type": "code",
      "metadata": {
        "id": "tJr-LYoJrsyH"
      },
      "source": [
        ""
      ],
      "execution_count": null,
      "outputs": []
    }
  ]
}